{
 "cells": [
  {
   "cell_type": "markdown",
   "id": "275cc3da",
   "metadata": {},
   "source": [
    "# - Libraries"
   ]
  },
  {
   "cell_type": "code",
   "execution_count": 1,
   "id": "9b390a1a",
   "metadata": {},
   "outputs": [],
   "source": [
    "import tensorflow as tf\n",
    "import matplotlib.pyplot as plt\n",
    "%matplotlib inline \n",
    "from tensorflow import keras\n",
    "from tensorflow.keras import models\n",
    "import numpy as np\n",
    "import pandas as pd\n",
    "from sklearn.neighbors import KNeighborsClassifier\n",
    "from sklearn.metrics import accuracy_score\n",
    "from mlxtend.data import loadlocal_mnist\n",
    "import matplotlib.pyplot as plt\n",
    "from scipy import ndimage as img\n",
    "from scipy.ndimage.measurements import center_of_mass\n",
    "import math\n",
    "import warnings\n",
    "warnings.filterwarnings('ignore')\n",
    "import math\n",
    "import time \n",
    "import random \n",
    "from sklearn import preprocessing\n",
    "from matplotlib import pyplot as plt\n",
    "\n"
   ]
  },
  {
   "cell_type": "markdown",
   "id": "047c8458",
   "metadata": {},
   "source": [
    "# - Loading data\n"
   ]
  },
  {
   "cell_type": "code",
   "execution_count": 2,
   "id": "f16f2963",
   "metadata": {},
   "outputs": [
    {
     "name": "stdout",
     "output_type": "stream",
     "text": [
      "1000\n",
      "5000\n"
     ]
    }
   ],
   "source": [
    "(x_train,y_train) , (x_test ,y_test) = keras.datasets.mnist.load_data()\n",
    "#samples\n",
    "x_train=x_train[:5000,:,:]\n",
    "y_train=y_train[:5000]\n",
    "x_test=x_test[:1000,:,:]\n",
    "y_test=y_test[:1000]\n",
    "#test=y_test\n",
    "print(len(x_test))\n",
    "print(len(x_train))"
   ]
  },
  {
   "cell_type": "markdown",
   "id": "7eda08fb",
   "metadata": {},
   "source": [
    "# - One hot vector\n"
   ]
  },
  {
   "cell_type": "code",
   "execution_count": 3,
   "id": "7e33941c",
   "metadata": {},
   "outputs": [
    {
     "name": "stdout",
     "output_type": "stream",
     "text": [
      "Value with encoding: [0. 0. 1. 0. 0. 0. 0. 0. 0. 0.]\n"
     ]
    }
   ],
   "source": [
    "# Define the One-hot Encoder\n",
    "ohe = preprocessing.OneHotEncoder()# Reshape data\n",
    "y_train = y_train.reshape(-1, 1)\n",
    "y_test = y_test.reshape(-1, 1)\n",
    "\n",
    "# Fit and transform training data\n",
    "ohe.fit(y_train)\n",
    "y_train = ohe.transform(y_train).toarray()\n",
    "\n",
    "# Fit and transform testing data\n",
    "ohe.fit(y_test)\n",
    "y_test = ohe.transform(y_test).toarray()\n",
    "\n",
    "# Print results\n",
    "print(f'Value with encoding: {y_test[1]}')\n"
   ]
  },
  {
   "cell_type": "markdown",
   "id": "087463db",
   "metadata": {},
   "source": [
    "# - print images\n"
   ]
  },
  {
   "cell_type": "code",
   "execution_count": 4,
   "id": "d03f17a9",
   "metadata": {},
   "outputs": [
    {
     "name": "stdout",
     "output_type": "stream",
     "text": [
      "(28, 28)\n"
     ]
    },
    {
     "data": {
      "image/png": "[encoded data removed]",
      "text/plain": [
       "<Figure size 432x288 with 1 Axes>"
      ]
     },
     "metadata": {
      "needs_background": "light"
     },
     "output_type": "display_data"
    }
   ],
   "source": [
    "index=1\n",
    "img=x_train[index]\n",
    "print(img.shape)\n",
    "plt.imshow(x_train[20])\n",
    "plt.show()"
   ]
  },
  {
   "cell_type": "markdown",
   "id": "91282c10",
   "metadata": {},
   "source": [
    "# - split images\n"
   ]
  },
  {
   "cell_type": "code",
   "execution_count": 5,
   "id": "0ce117f6",
   "metadata": {},
   "outputs": [],
   "source": [
    "def imaged_grid(img , row , col ):\n",
    "    \"\"\"\n",
    "    Input:\n",
    "        img: 1D Image vector\n",
    "        row: number of rows in the grid\n",
    "        col: number of columns in the grid\n",
    "    Output:\n",
    "        reshaped image (2D)\n",
    "    \"\"\"\n",
    "    x , y = img.shape\n",
    "\n",
    "    assert x % row == 0, \"{} rows is not evenly divisble by {}\".format(x, row)\n",
    "    assert y % col == 0, \"{} cols is not evenly divisble by {}\".format(y, col)\n",
    "    \n",
    "    return (img.reshape(x//row, row, -1,col)\n",
    "            .swapaxes(1,2)\n",
    "            .reshape(-1, row, col)) "
   ]
  },
  {
   "cell_type": "code",
   "execution_count": 6,
   "id": "8facc3bc",
   "metadata": {},
   "outputs": [
    {
     "name": "stdout",
     "output_type": "stream",
     "text": [
      "(196, 2, 2)\n"
     ]
    },
    {
     "data": {
      "text/plain": [
       "array([[[  0,   0],\n",
       "        [  0,   0]],\n",
       "\n",
       "       [[  0,   0],\n",
       "        [  0,   0]],\n",
       "\n",
       "       [[  0,   0],\n",
       "        [  0,   0]],\n",
       "\n",
       "       [[  0,   0],\n",
       "        [  0,   0]],\n",
       "\n",
       "       [[  0,   0],\n",
       "        [  0,   0]],\n",
       "\n",
       "       [[  0,   0],\n",
       "        [  0,   0]],\n",
       "\n",
       "       [[  0,   0],\n",
       "        [  0,   0]],\n",
       "\n",
       "       [[  0,   0],\n",
       "        [  0,   0]],\n",
       "\n",
       "       [[  0,   0],\n",
       "        [  0,   0]],\n",
       "\n",
       "       [[  0,   0],\n",
       "        [  0,   0]],\n",
       "\n",
       "       [[  0,   0],\n",
       "        [  0,   0]],\n",
       "\n",
       "       [[  0,   0],\n",
       "        [  0,   0]],\n",
       "\n",
       "       [[  0,   0],\n",
       "        [  0,   0]],\n",
       "\n",
       "       [[  0,   0],\n",
       "        [  0,   0]],\n",
       "\n",
       "       [[  0,   0],\n",
       "        [  0,   0]],\n",
       "\n",
       "       [[  0,   0],\n",
       "        [  0,   0]],\n",
       "\n",
       "       [[  0,   0],\n",
       "        [  0,   0]],\n",
       "\n",
       "       [[  0,   0],\n",
       "        [  0,   0]],\n",
       "\n",
       "       [[  0,   0],\n",
       "        [  0,   0]],\n",
       "\n",
       "       [[  0,   0],\n",
       "        [  0,   0]],\n",
       "\n",
       "       [[  0,   0],\n",
       "        [  0,   0]],\n",
       "\n",
       "       [[  0,   0],\n",
       "        [  0,   0]],\n",
       "\n",
       "       [[  0,   0],\n",
       "        [  0,   0]],\n",
       "\n",
       "       [[  0,   0],\n",
       "        [  0,   0]],\n",
       "\n",
       "       [[  0,   0],\n",
       "        [  0,   0]],\n",
       "\n",
       "       [[  0,   0],\n",
       "        [  0,   0]],\n",
       "\n",
       "       [[  0,   0],\n",
       "        [  0,   0]],\n",
       "\n",
       "       [[  0,   0],\n",
       "        [  0,   0]],\n",
       "\n",
       "       [[  0,   0],\n",
       "        [  0,   0]],\n",
       "\n",
       "       [[  0,   0],\n",
       "        [  0,   0]],\n",
       "\n",
       "       [[  0,   0],\n",
       "        [  0,   0]],\n",
       "\n",
       "       [[  0,   0],\n",
       "        [  0,   0]],\n",
       "\n",
       "       [[  0,   0],\n",
       "        [  0,   0]],\n",
       "\n",
       "       [[  0,   0],\n",
       "        [  0,   0]],\n",
       "\n",
       "       [[  0,   0],\n",
       "        [  0,   0]],\n",
       "\n",
       "       [[  0,   0],\n",
       "        [  0,   0]],\n",
       "\n",
       "       [[  0,   0],\n",
       "        [  0,   0]],\n",
       "\n",
       "       [[  0,   0],\n",
       "        [  0,   0]],\n",
       "\n",
       "       [[  0,   0],\n",
       "        [  0,   0]],\n",
       "\n",
       "       [[  0,   0],\n",
       "        [  0,   0]],\n",
       "\n",
       "       [[  0,   0],\n",
       "        [  0,   0]],\n",
       "\n",
       "       [[  0,   0],\n",
       "        [  0,   0]],\n",
       "\n",
       "       [[  0,   0],\n",
       "        [  0,   0]],\n",
       "\n",
       "       [[  0,   0],\n",
       "        [  0,   0]],\n",
       "\n",
       "       [[  0,   0],\n",
       "        [  0,   0]],\n",
       "\n",
       "       [[  0,   0],\n",
       "        [  0,   0]],\n",
       "\n",
       "       [[  0,   0],\n",
       "        [  0,   0]],\n",
       "\n",
       "       [[  0,   0],\n",
       "        [  0,   0]],\n",
       "\n",
       "       [[  0,   0],\n",
       "        [  0,  36]],\n",
       "\n",
       "       [[  0,   0],\n",
       "        [ 56, 137]],\n",
       "\n",
       "       [[  0,   0],\n",
       "        [201, 199]],\n",
       "\n",
       "       [[  0,   0],\n",
       "        [ 95,  37]],\n",
       "\n",
       "       [[  0,   0],\n",
       "        [  0,   0]],\n",
       "\n",
       "       [[  0,   0],\n",
       "        [  0,   0]],\n",
       "\n",
       "       [[  0,   0],\n",
       "        [  0,   0]],\n",
       "\n",
       "       [[  0,   0],\n",
       "        [  0,   0]],\n",
       "\n",
       "       [[  0,   0],\n",
       "        [  0,   0]],\n",
       "\n",
       "       [[  0,   0],\n",
       "        [  0,   0]],\n",
       "\n",
       "       [[  0,   0],\n",
       "        [  0,   0]],\n",
       "\n",
       "       [[  0,   0],\n",
       "        [  0,   0]],\n",
       "\n",
       "       [[  0,   0],\n",
       "        [  0,  46]],\n",
       "\n",
       "       [[  0,  45],\n",
       "        [153, 240]],\n",
       "\n",
       "       [[152, 234],\n",
       "        [254, 254]],\n",
       "\n",
       "       [[254, 254],\n",
       "        [227, 166]],\n",
       "\n",
       "       [[254, 254],\n",
       "        [133, 251]],\n",
       "\n",
       "       [[254, 250],\n",
       "        [200, 254]],\n",
       "\n",
       "       [[211, 151],\n",
       "        [229, 225]],\n",
       "\n",
       "       [[  6,   0],\n",
       "        [104,   0]],\n",
       "\n",
       "       [[  0,   0],\n",
       "        [  0,   0]],\n",
       "\n",
       "       [[  0,   0],\n",
       "        [  0,   0]],\n",
       "\n",
       "       [[  0,   0],\n",
       "        [  0,   0]],\n",
       "\n",
       "       [[  0,   0],\n",
       "        [  0,   0]],\n",
       "\n",
       "       [[  0,   0],\n",
       "        [  0,   0]],\n",
       "\n",
       "       [[  0,   0],\n",
       "        [  8, 126]],\n",
       "\n",
       "       [[153, 234],\n",
       "        [253, 254]],\n",
       "\n",
       "       [[254, 254],\n",
       "        [233, 128]],\n",
       "\n",
       "       [[187, 142],\n",
       "        [ 11,   0]],\n",
       "\n",
       "       [[  8,   0],\n",
       "        [  0,   0]],\n",
       "\n",
       "       [[  0, 191],\n",
       "        [  0, 210]],\n",
       "\n",
       "       [[ 40, 198],\n",
       "        [ 43,  70]],\n",
       "\n",
       "       [[246, 223],\n",
       "        [254, 254]],\n",
       "\n",
       "       [[253,  21],\n",
       "        [254,  21]],\n",
       "\n",
       "       [[  0,   0],\n",
       "        [  0,   0]],\n",
       "\n",
       "       [[  0,   0],\n",
       "        [  0,   0]],\n",
       "\n",
       "       [[  0,   0],\n",
       "        [  0,   0]],\n",
       "\n",
       "       [[  0,   0],\n",
       "        [  0,   0]],\n",
       "\n",
       "       [[  0,   0],\n",
       "        [  0,   0]],\n",
       "\n",
       "       [[ 72, 243],\n",
       "        [ 75, 240]],\n",
       "\n",
       "       [[254, 228],\n",
       "        [254, 223]],\n",
       "\n",
       "       [[ 54,   0],\n",
       "        [109, 138]],\n",
       "\n",
       "       [[  0,   0],\n",
       "        [178, 178]],\n",
       "\n",
       "       [[  0,   3],\n",
       "        [169, 210]],\n",
       "\n",
       "       [[ 32, 116],\n",
       "        [251, 231]],\n",
       "\n",
       "       [[225, 242],\n",
       "        [254, 254]],\n",
       "\n",
       "       [[254, 255],\n",
       "        [254, 232]],\n",
       "\n",
       "       [[162,   5],\n",
       "        [ 38,   0]],\n",
       "\n",
       "       [[  0,   0],\n",
       "        [  0,   0]],\n",
       "\n",
       "       [[  0,   0],\n",
       "        [  0,   0]],\n",
       "\n",
       "       [[  0,   0],\n",
       "        [  0,   0]],\n",
       "\n",
       "       [[  0,   0],\n",
       "        [  0,   0]],\n",
       "\n",
       "       [[  0,   0],\n",
       "        [  0,   0]],\n",
       "\n",
       "       [[  9, 175],\n",
       "        [  0,   0]],\n",
       "\n",
       "       [[244, 253],\n",
       "        [ 16, 136]],\n",
       "\n",
       "       [[255, 254],\n",
       "        [195, 176]],\n",
       "\n",
       "       [[254, 251],\n",
       "        [146, 153]],\n",
       "\n",
       "       [[254, 254],\n",
       "        [200, 254]],\n",
       "\n",
       "       [[254, 254],\n",
       "        [254, 254]],\n",
       "\n",
       "       [[254, 252],\n",
       "        [254, 150]],\n",
       "\n",
       "       [[171,  25],\n",
       "        [ 16,   0]],\n",
       "\n",
       "       [[  0,   0],\n",
       "        [  0,   0]],\n",
       "\n",
       "       [[  0,   0],\n",
       "        [  0,   0]],\n",
       "\n",
       "       [[  0,   0],\n",
       "        [  0,   0]],\n",
       "\n",
       "       [[  0,   0],\n",
       "        [  0,   0]],\n",
       "\n",
       "       [[  0,   0],\n",
       "        [  0,   0]],\n",
       "\n",
       "       [[  0,   0],\n",
       "        [  0,   0]],\n",
       "\n",
       "       [[  0,   0],\n",
       "        [  0,   0]],\n",
       "\n",
       "       [[  0,   0],\n",
       "        [  0,   0]],\n",
       "\n",
       "       [[  0,   0],\n",
       "        [  0,   0]],\n",
       "\n",
       "       [[  0,   0],\n",
       "        [  0, 118]],\n",
       "\n",
       "       [[162, 254],\n",
       "        [250, 254]],\n",
       "\n",
       "       [[254, 241],\n",
       "        [254,  90]],\n",
       "\n",
       "       [[ 99,   3],\n",
       "        [  0,   0]],\n",
       "\n",
       "       [[  0,   0],\n",
       "        [  0,   0]],\n",
       "\n",
       "       [[  0,   0],\n",
       "        [  0,   0]],\n",
       "\n",
       "       [[  0,   0],\n",
       "        [  0,   0]],\n",
       "\n",
       "       [[  0,   0],\n",
       "        [  0,   0]],\n",
       "\n",
       "       [[  0,   0],\n",
       "        [  0,   0]],\n",
       "\n",
       "       [[  0,   0],\n",
       "        [  0,   0]],\n",
       "\n",
       "       [[  0,   0],\n",
       "        [  0,   0]],\n",
       "\n",
       "       [[  0,   0],\n",
       "        [  0,   0]],\n",
       "\n",
       "       [[  0,   0],\n",
       "        [  0,   0]],\n",
       "\n",
       "       [[  0,   0],\n",
       "        [  0,  54]],\n",
       "\n",
       "       [[100, 242],\n",
       "        [241, 254]],\n",
       "\n",
       "       [[254, 254],\n",
       "        [254, 242]],\n",
       "\n",
       "       [[211,   7],\n",
       "        [ 59,   0]],\n",
       "\n",
       "       [[  0,   0],\n",
       "        [  0,   0]],\n",
       "\n",
       "       [[  0,   0],\n",
       "        [  0,   0]],\n",
       "\n",
       "       [[  0,   0],\n",
       "        [  0,   0]],\n",
       "\n",
       "       [[  0,   0],\n",
       "        [  0,   0]],\n",
       "\n",
       "       [[  0,   0],\n",
       "        [  0,   0]],\n",
       "\n",
       "       [[  0,   0],\n",
       "        [  0,   0]],\n",
       "\n",
       "       [[  0,   0],\n",
       "        [  0,   0]],\n",
       "\n",
       "       [[  0,   0],\n",
       "        [  0,   0]],\n",
       "\n",
       "       [[  0,   0],\n",
       "        [  0,   0]],\n",
       "\n",
       "       [[  0,   0],\n",
       "        [  0,   0]],\n",
       "\n",
       "       [[  0, 131],\n",
       "        [ 13, 249]],\n",
       "\n",
       "       [[254, 254],\n",
       "        [254, 254]],\n",
       "\n",
       "       [[244,  64],\n",
       "        [152,   0]],\n",
       "\n",
       "       [[  0,   0],\n",
       "        [  0,   0]],\n",
       "\n",
       "       [[  0,   0],\n",
       "        [  0,   0]],\n",
       "\n",
       "       [[  0,   0],\n",
       "        [  0,   0]],\n",
       "\n",
       "       [[  0,   0],\n",
       "        [  0,   0]],\n",
       "\n",
       "       [[  0,   0],\n",
       "        [  0,   0]],\n",
       "\n",
       "       [[  0,   0],\n",
       "        [  0,   0]],\n",
       "\n",
       "       [[  0,   0],\n",
       "        [  0,   0]],\n",
       "\n",
       "       [[  0,   0],\n",
       "        [  0,   0]],\n",
       "\n",
       "       [[  0,   0],\n",
       "        [  0,   0]],\n",
       "\n",
       "       [[  0,   0],\n",
       "        [  0,   0]],\n",
       "\n",
       "       [[  0,  12],\n",
       "        [  0,  78]],\n",
       "\n",
       "       [[228, 254],\n",
       "        [255, 254]],\n",
       "\n",
       "       [[254, 208],\n",
       "        [254,  66]],\n",
       "\n",
       "       [[  8,   0],\n",
       "        [  0,   0]],\n",
       "\n",
       "       [[  0,   0],\n",
       "        [  0,   0]],\n",
       "\n",
       "       [[  0,   0],\n",
       "        [  0,   0]],\n",
       "\n",
       "       [[  0,   0],\n",
       "        [  0,   0]],\n",
       "\n",
       "       [[  0,   0],\n",
       "        [  0,   0]],\n",
       "\n",
       "       [[  0,   0],\n",
       "        [  0,   0]],\n",
       "\n",
       "       [[  0,   0],\n",
       "        [  0,   0]],\n",
       "\n",
       "       [[  0,   0],\n",
       "        [  0,   0]],\n",
       "\n",
       "       [[  0,   0],\n",
       "        [  0,   0]],\n",
       "\n",
       "       [[  0,   0],\n",
       "        [  0,   0]],\n",
       "\n",
       "       [[  0,   0],\n",
       "        [  0,   0]],\n",
       "\n",
       "       [[  0, 209],\n",
       "        [  0, 227]],\n",
       "\n",
       "       [[254, 254],\n",
       "        [255, 233]],\n",
       "\n",
       "       [[137,   0],\n",
       "        [ 25,   0]],\n",
       "\n",
       "       [[  0,   0],\n",
       "        [  0,   0]],\n",
       "\n",
       "       [[  0,   0],\n",
       "        [  0,   0]],\n",
       "\n",
       "       [[  0,   0],\n",
       "        [  0,   0]],\n",
       "\n",
       "       [[  0,   0],\n",
       "        [  0,   0]],\n",
       "\n",
       "       [[  0,   0],\n",
       "        [  0,   0]],\n",
       "\n",
       "       [[  0,   0],\n",
       "        [  0,   0]],\n",
       "\n",
       "       [[  0,   0],\n",
       "        [  0,   0]],\n",
       "\n",
       "       [[  0,   0],\n",
       "        [  0,   0]],\n",
       "\n",
       "       [[  0,   0],\n",
       "        [  0,   0]],\n",
       "\n",
       "       [[  0,   0],\n",
       "        [  0,   0]],\n",
       "\n",
       "       [[  0,   0],\n",
       "        [  0,   0]],\n",
       "\n",
       "       [[  0, 113],\n",
       "        [  0,   0]],\n",
       "\n",
       "       [[255, 108],\n",
       "        [  0,   0]],\n",
       "\n",
       "       [[  0,   0],\n",
       "        [  0,   0]],\n",
       "\n",
       "       [[  0,   0],\n",
       "        [  0,   0]],\n",
       "\n",
       "       [[  0,   0],\n",
       "        [  0,   0]],\n",
       "\n",
       "       [[  0,   0],\n",
       "        [  0,   0]],\n",
       "\n",
       "       [[  0,   0],\n",
       "        [  0,   0]],\n",
       "\n",
       "       [[  0,   0],\n",
       "        [  0,   0]],\n",
       "\n",
       "       [[  0,   0],\n",
       "        [  0,   0]],\n",
       "\n",
       "       [[  0,   0],\n",
       "        [  0,   0]]], dtype=uint8)"
      ]
     },
     "execution_count": 6,
     "metadata": {},
     "output_type": "execute_result"
    }
   ],
   "source": [
    "print(imaged_grid(x_test[9] ,2, 2 ).shape)\n",
    "imaged_grid(x_test[9] , 2, 2 )"
   ]
  },
  {
   "cell_type": "markdown",
   "id": "e321fb29",
   "metadata": {},
   "source": [
    "# - extract features (centroid)"
   ]
  },
  {
   "cell_type": "code",
   "execution_count": 7,
   "id": "c30e74c8",
   "metadata": {},
   "outputs": [],
   "source": [
    "def get_centroid(img):\n",
    "    \n",
    "    \"\"\"\n",
    "    Input: \n",
    "        img: (2D) image\n",
    "    \n",
    "    Output: \n",
    "        feature vector of the img (np.array)\n",
    "    \"\"\"\n",
    "    feature_vector = []\n",
    " \n",
    "    for grid in imaged_grid(img ,4, 4) :\n",
    "        \n",
    "        Xc = 0 \n",
    "        Yc = 0 \n",
    "        sum = 0\n",
    "    \n",
    "        for index, x in np.ndenumerate(grid):\n",
    "          sum+= x \n",
    "          Xc += x * index[0]\n",
    "          Yc += x * index[1]\n",
    "        \n",
    "        if sum != 0 :\n",
    "            feature_vector.append( Xc/ sum )\n",
    "            feature_vector.append(Yc/ sum )\n",
    "        else :\n",
    "             feature_vector.append(0)\n",
    "             feature_vector.append(0)\n",
    "        \n",
    "    \n",
    "    return np.array(feature_vector)"
   ]
  },
  {
   "cell_type": "markdown",
   "id": "52eb653a",
   "metadata": {},
   "source": [
    "# -print centroid of each box"
   ]
  },
  {
   "cell_type": "code",
   "execution_count": 8,
   "id": "f09d20c7",
   "metadata": {},
   "outputs": [
    {
     "name": "stdout",
     "output_type": "stream",
     "text": [
      "[0 0]\n"
     ]
    },
    {
     "data": {
      "image/png": "[encoded data removed]",
      "text/plain": [
       "<Figure size 432x288 with 1 Axes>"
      ]
     },
     "metadata": {
      "needs_background": "light"
     },
     "output_type": "display_data"
    },
    {
     "name": "stdout",
     "output_type": "stream",
     "text": [
      "[0 0]\n"
     ]
    },
    {
     "data": {
      "image/png": "[encoded data removed]",
      "text/plain": [
       "<Figure size 432x288 with 1 Axes>"
      ]
     },
     "metadata": {
      "needs_background": "light"
     },
     "output_type": "display_data"
    },
    {
     "name": "stdout",
     "output_type": "stream",
     "text": [
      "[0 0]\n"
     ]
    },
    {
     "data": {
      "image/png": "[encoded data removed]",
      "text/plain": [
       "<Figure size 432x288 with 1 Axes>"
      ]
     },
     "metadata": {
      "needs_background": "light"
     },
     "output_type": "display_data"
    },
    {
     "name": "stdout",
     "output_type": "stream",
     "text": [
      "[0 0]\n"
     ]
    },
    {
     "data": {
      "image/png": "[encoded data removed]",
      "text/plain": [
       "<Figure size 432x288 with 1 Axes>"
      ]
     },
     "metadata": {
      "needs_background": "light"
     },
     "output_type": "display_data"
    },
    {
     "name": "stdout",
     "output_type": "stream",
     "text": [
      "[0 0]\n"
     ]
    },
    {
     "data": {
      "image/png": "[encoded data removed]",
      "text/plain": [
       "<Figure size 432x288 with 1 Axes>"
      ]
     },
     "metadata": {
      "needs_background": "light"
     },
     "output_type": "display_data"
    },
    {
     "name": "stdout",
     "output_type": "stream",
     "text": [
      "[0 0]\n"
     ]
    },
    {
     "data": {
      "image/png": "[encoded data removed]",
      "text/plain": [
       "<Figure size 432x288 with 1 Axes>"
      ]
     },
     "metadata": {
      "needs_background": "light"
     },
     "output_type": "display_data"
    },
    {
     "name": "stdout",
     "output_type": "stream",
     "text": [
      "[0 0]\n"
     ]
    },
    {
     "data": {
      "image/png": "[encoded data removed]",
      "text/plain": [
       "<Figure size 432x288 with 1 Axes>"
      ]
     },
     "metadata": {
      "needs_background": "light"
     },
     "output_type": "display_data"
    },
    {
     "name": "stdout",
     "output_type": "stream",
     "text": [
      "[0 0]\n"
     ]
    },
    {
     "data": {
      "image/png": "[encoded data removed]",
      "text/plain": [
       "<Figure size 432x288 with 1 Axes>"
      ]
     },
     "metadata": {
      "needs_background": "light"
     },
     "output_type": "display_data"
    },
    {
     "name": "stdout",
     "output_type": "stream",
     "text": [
      "[0 0]\n"
     ]
    },
    {
     "data": {
      "image/png": "[encoded data removed]",
      "text/plain": [
       "<Figure size 432x288 with 1 Axes>"
      ]
     },
     "metadata": {
      "needs_background": "light"
     },
     "output_type": "display_data"
    },
    {
     "name": "stdout",
     "output_type": "stream",
     "text": [
      "[0 0]\n"
     ]
    },
    {
     "data": {
      "image/png": "[encoded data removed]",
      "text/plain": [
       "<Figure size 432x288 with 1 Axes>"
      ]
     },
     "metadata": {
      "needs_background": "light"
     },
     "output_type": "display_data"
    },
    {
     "name": "stdout",
     "output_type": "stream",
     "text": [
      "[3. 3.]\n"
     ]
    },
    {
     "data": {
      "image/png": "[encoded data removed]",
      "text/plain": [
       "<Figure size 432x288 with 1 Axes>"
      ]
     },
     "metadata": {
      "needs_background": "light"
     },
     "output_type": "display_data"
    },
    {
     "name": "stdout",
     "output_type": "stream",
     "text": [
      "[1.47927136 0.80339196]\n"
     ]
    },
    {
     "data": {
      "image/png": "[encoded data removed]",
      "text/plain": [
       "<Figure size 432x288 with 1 Axes>"
      ]
     },
     "metadata": {
      "needs_background": "light"
     },
     "output_type": "display_data"
    },
    {
     "name": "stdout",
     "output_type": "stream",
     "text": [
      "[0 0]\n"
     ]
    },
    {
     "data": {
      "image/png": "[encoded data removed]",
      "text/plain": [
       "<Figure size 432x288 with 1 Axes>"
      ]
     },
     "metadata": {
      "needs_background": "light"
     },
     "output_type": "display_data"
    },
    {
     "name": "stdout",
     "output_type": "stream",
     "text": [
      "[0 0]\n"
     ]
    },
    {
     "data": {
      "image/png": "[encoded data removed]",
      "text/plain": [
       "<Figure size 432x288 with 1 Axes>"
      ]
     },
     "metadata": {
      "needs_background": "light"
     },
     "output_type": "display_data"
    },
    {
     "name": "stdout",
     "output_type": "stream",
     "text": [
      "[0 0]\n"
     ]
    },
    {
     "data": {
      "image/png": "[encoded data removed]",
      "text/plain": [
       "<Figure size 432x288 with 1 Axes>"
      ]
     },
     "metadata": {
      "needs_background": "light"
     },
     "output_type": "display_data"
    },
    {
     "name": "stdout",
     "output_type": "stream",
     "text": [
      "[0 0]\n"
     ]
    },
    {
     "data": {
      "image/png": "[encoded data removed]",
      "text/plain": [
       "<Figure size 432x288 with 1 Axes>"
      ]
     },
     "metadata": {
      "needs_background": "light"
     },
     "output_type": "display_data"
    },
    {
     "name": "stdout",
     "output_type": "stream",
     "text": [
      "[0 0]\n"
     ]
    },
    {
     "data": {
      "image/png": "[encoded data removed]",
      "text/plain": [
       "<Figure size 432x288 with 1 Axes>"
      ]
     },
     "metadata": {
      "needs_background": "light"
     },
     "output_type": "display_data"
    },
    {
     "name": "stdout",
     "output_type": "stream",
     "text": [
      "[1.9771987  2.86210641]\n"
     ]
    },
    {
     "data": {
      "image/png": "[encoded data removed]",
      "text/plain": [
       "<Figure size 432x288 with 1 Axes>"
      ]
     },
     "metadata": {
      "needs_background": "light"
     },
     "output_type": "display_data"
    },
    {
     "name": "stdout",
     "output_type": "stream",
     "text": [
      "[1.3004158  0.07692308]\n"
     ]
    },
    {
     "data": {
      "image/png": "[encoded data removed]",
      "text/plain": [
       "<Figure size 432x288 with 1 Axes>"
      ]
     },
     "metadata": {
      "needs_background": "light"
     },
     "output_type": "display_data"
    },
    {
     "name": "stdout",
     "output_type": "stream",
     "text": [
      "[0 0]\n"
     ]
    },
    {
     "data": {
      "image/png": "[encoded data removed]",
      "text/plain": [
       "<Figure size 432x288 with 1 Axes>"
      ]
     },
     "metadata": {
      "needs_background": "light"
     },
     "output_type": "display_data"
    },
    {
     "name": "stdout",
     "output_type": "stream",
     "text": [
      "[0 0]\n"
     ]
    },
    {
     "data": {
      "image/png": "[encoded data removed]",
      "text/plain": [
       "<Figure size 432x288 with 1 Axes>"
      ]
     },
     "metadata": {
      "needs_background": "light"
     },
     "output_type": "display_data"
    },
    {
     "name": "stdout",
     "output_type": "stream",
     "text": [
      "[0 0]\n"
     ]
    },
    {
     "data": {
      "image/png": "[encoded data removed]",
      "text/plain": [
       "<Figure size 432x288 with 1 Axes>"
      ]
     },
     "metadata": {
      "needs_background": "light"
     },
     "output_type": "display_data"
    },
    {
     "name": "stdout",
     "output_type": "stream",
     "text": [
      "[0 0]\n"
     ]
    },
    {
     "data": {
      "image/png": "[encoded data removed]",
      "text/plain": [
       "<Figure size 432x288 with 1 Axes>"
      ]
     },
     "metadata": {
      "needs_background": "light"
     },
     "output_type": "display_data"
    },
    {
     "name": "stdout",
     "output_type": "stream",
     "text": [
      "[0 0]\n"
     ]
    },
    {
     "data": {
      "image/png": "[encoded data removed]",
      "text/plain": [
       "<Figure size 432x288 with 1 Axes>"
      ]
     },
     "metadata": {
      "needs_background": "light"
     },
     "output_type": "display_data"
    },
    {
     "name": "stdout",
     "output_type": "stream",
     "text": [
      "[1.59804426 2.18167782]\n"
     ]
    },
    {
     "data": {
      "image/png": "[encoded data removed]",
      "text/plain": [
       "<Figure size 432x288 with 1 Axes>"
      ]
     },
     "metadata": {
      "needs_background": "light"
     },
     "output_type": "display_data"
    },
    {
     "name": "stdout",
     "output_type": "stream",
     "text": [
      "[0.09411765 0.        ]\n"
     ]
    },
    {
     "data": {
      "image/png": "[encoded data removed]",
      "text/plain": [
       "<Figure size 432x288 with 1 Axes>"
      ]
     },
     "metadata": {
      "needs_background": "light"
     },
     "output_type": "display_data"
    },
    {
     "name": "stdout",
     "output_type": "stream",
     "text": [
      "[0 0]\n"
     ]
    },
    {
     "data": {
      "image/png": "[encoded data removed]",
      "text/plain": [
       "<Figure size 432x288 with 1 Axes>"
      ]
     },
     "metadata": {
      "needs_background": "light"
     },
     "output_type": "display_data"
    },
    {
     "name": "stdout",
     "output_type": "stream",
     "text": [
      "[0 0]\n"
     ]
    },
    {
     "data": {
      "image/png": "[encoded data removed]",
      "text/plain": [
       "<Figure size 432x288 with 1 Axes>"
      ]
     },
     "metadata": {
      "needs_background": "light"
     },
     "output_type": "display_data"
    },
    {
     "name": "stdout",
     "output_type": "stream",
     "text": [
      "[0 0]\n"
     ]
    },
    {
     "data": {
      "image/png": "[encoded data removed]",
      "text/plain": [
       "<Figure size 432x288 with 1 Axes>"
      ]
     },
     "metadata": {
      "needs_background": "light"
     },
     "output_type": "display_data"
    },
    {
     "name": "stdout",
     "output_type": "stream",
     "text": [
      "[0 0]\n"
     ]
    },
    {
     "data": {
      "image/png": "[encoded data removed]",
      "text/plain": [
       "<Figure size 432x288 with 1 Axes>"
      ]
     },
     "metadata": {
      "needs_background": "light"
     },
     "output_type": "display_data"
    },
    {
     "name": "stdout",
     "output_type": "stream",
     "text": [
      "[0 0]\n"
     ]
    },
    {
     "data": {
      "image/png": "[encoded data removed]",
      "text/plain": [
       "<Figure size 432x288 with 1 Axes>"
      ]
     },
     "metadata": {
      "needs_background": "light"
     },
     "output_type": "display_data"
    },
    {
     "name": "stdout",
     "output_type": "stream",
     "text": [
      "[1.55836112 1.02810862]\n"
     ]
    },
    {
     "data": {
      "image/png": "[encoded data removed]",
      "text/plain": [
       "<Figure size 432x288 with 1 Axes>"
      ]
     },
     "metadata": {
      "needs_background": "light"
     },
     "output_type": "display_data"
    },
    {
     "name": "stdout",
     "output_type": "stream",
     "text": [
      "[0 0]\n"
     ]
    },
    {
     "data": {
      "image/png": "[encoded data removed]",
      "text/plain": [
       "<Figure size 432x288 with 1 Axes>"
      ]
     },
     "metadata": {
      "needs_background": "light"
     },
     "output_type": "display_data"
    },
    {
     "name": "stdout",
     "output_type": "stream",
     "text": [
      "[0 0]\n"
     ]
    },
    {
     "data": {
      "image/png": "[encoded data removed]",
      "text/plain": [
       "<Figure size 432x288 with 1 Axes>"
      ]
     },
     "metadata": {
      "needs_background": "light"
     },
     "output_type": "display_data"
    },
    {
     "name": "stdout",
     "output_type": "stream",
     "text": [
      "[0 0]\n"
     ]
    },
    {
     "data": {
      "image/png": "[encoded data removed]",
      "text/plain": [
       "<Figure size 432x288 with 1 Axes>"
      ]
     },
     "metadata": {
      "needs_background": "light"
     },
     "output_type": "display_data"
    },
    {
     "name": "stdout",
     "output_type": "stream",
     "text": [
      "[0 0]\n"
     ]
    },
    {
     "data": {
      "image/png": "[encoded data removed]",
      "text/plain": [
       "<Figure size 432x288 with 1 Axes>"
      ]
     },
     "metadata": {
      "needs_background": "light"
     },
     "output_type": "display_data"
    },
    {
     "name": "stdout",
     "output_type": "stream",
     "text": [
      "[0 0]\n"
     ]
    },
    {
     "data": {
      "image/png": "[encoded data removed]",
      "text/plain": [
       "<Figure size 432x288 with 1 Axes>"
      ]
     },
     "metadata": {
      "needs_background": "light"
     },
     "output_type": "display_data"
    },
    {
     "name": "stdout",
     "output_type": "stream",
     "text": [
      "[1.9047619  2.97619048]\n"
     ]
    },
    {
     "data": {
      "image/png": "[encoded data removed]",
      "text/plain": [
       "<Figure size 432x288 with 1 Axes>"
      ]
     },
     "metadata": {
      "needs_background": "light"
     },
     "output_type": "display_data"
    },
    {
     "name": "stdout",
     "output_type": "stream",
     "text": [
      "[1.11041405 0.45671267]\n"
     ]
    },
    {
     "data": {
      "image/png": "[encoded data removed]",
      "text/plain": [
       "<Figure size 432x288 with 1 Axes>"
      ]
     },
     "metadata": {
      "needs_background": "light"
     },
     "output_type": "display_data"
    },
    {
     "name": "stdout",
     "output_type": "stream",
     "text": [
      "[0 0]\n"
     ]
    },
    {
     "data": {
      "image/png": "[encoded data removed]",
      "text/plain": [
       "<Figure size 432x288 with 1 Axes>"
      ]
     },
     "metadata": {
      "needs_background": "light"
     },
     "output_type": "display_data"
    },
    {
     "name": "stdout",
     "output_type": "stream",
     "text": [
      "[0 0]\n"
     ]
    },
    {
     "data": {
      "image/png": "[encoded data removed]",
      "text/plain": [
       "<Figure size 432x288 with 1 Axes>"
      ]
     },
     "metadata": {
      "needs_background": "light"
     },
     "output_type": "display_data"
    },
    {
     "name": "stdout",
     "output_type": "stream",
     "text": [
      "[0 0]\n"
     ]
    },
    {
     "data": {
      "image/png": "[encoded data removed]",
      "text/plain": [
       "<Figure size 432x288 with 1 Axes>"
      ]
     },
     "metadata": {
      "needs_background": "light"
     },
     "output_type": "display_data"
    },
    {
     "name": "stdout",
     "output_type": "stream",
     "text": [
      "[0 0]\n"
     ]
    },
    {
     "data": {
      "image/png": "[encoded data removed]",
      "text/plain": [
       "<Figure size 432x288 with 1 Axes>"
      ]
     },
     "metadata": {
      "needs_background": "light"
     },
     "output_type": "display_data"
    },
    {
     "name": "stdout",
     "output_type": "stream",
     "text": [
      "[0 0]\n"
     ]
    },
    {
     "data": {
      "image/png": "[encoded data removed]",
      "text/plain": [
       "<Figure size 432x288 with 1 Axes>"
      ]
     },
     "metadata": {
      "needs_background": "light"
     },
     "output_type": "display_data"
    },
    {
     "name": "stdout",
     "output_type": "stream",
     "text": [
      "[0 0]\n"
     ]
    },
    {
     "data": {
      "image/png": "[encoded data removed]",
      "text/plain": [
       "<Figure size 432x288 with 1 Axes>"
      ]
     },
     "metadata": {
      "needs_background": "light"
     },
     "output_type": "display_data"
    },
    {
     "name": "stdout",
     "output_type": "stream",
     "text": [
      "[0 0]\n"
     ]
    },
    {
     "data": {
      "image/png": "[encoded data removed]",
      "text/plain": [
       "<Figure size 432x288 with 1 Axes>"
      ]
     },
     "metadata": {
      "needs_background": "light"
     },
     "output_type": "display_data"
    },
    {
     "name": "stdout",
     "output_type": "stream",
     "text": [
      "[0 0]\n"
     ]
    },
    {
     "data": {
      "image/png": "[encoded data removed]",
      "text/plain": [
       "<Figure size 432x288 with 1 Axes>"
      ]
     },
     "metadata": {
      "needs_background": "light"
     },
     "output_type": "display_data"
    },
    {
     "name": "stdout",
     "output_type": "stream",
     "text": [
      "[0 0]\n"
     ]
    },
    {
     "data": {
      "image/png": "[encoded data removed]",
      "text/plain": [
       "<Figure size 432x288 with 1 Axes>"
      ]
     },
     "metadata": {
      "needs_background": "light"
     },
     "output_type": "display_data"
    },
    {
     "name": "stdout",
     "output_type": "stream",
     "text": [
      "[0 0]\n"
     ]
    },
    {
     "data": {
      "image/png": "[encoded data removed]",
      "text/plain": [
       "<Figure size 432x288 with 1 Axes>"
      ]
     },
     "metadata": {
      "needs_background": "light"
     },
     "output_type": "display_data"
    }
   ],
   "source": [
    "test=imaged_grid(x_test[2],4,4)\n",
    "for i in test:\n",
    "    print(get_centroid(i))\n",
    "    plt.imshow(i)\n",
    "    plt.show()"
   ]
  },
  {
   "cell_type": "markdown",
   "id": "e0cdf421",
   "metadata": {},
   "source": [
    "# - calculate feature vector"
   ]
  },
  {
   "cell_type": "code",
   "execution_count": 9,
   "id": "daa841f6",
   "metadata": {},
   "outputs": [
    {
     "name": "stdout",
     "output_type": "stream",
     "text": [
      "shape of train feature vector: (5000, 98, 1)\n",
      "shape of test feature vector: (1000, 98, 1)\n"
     ]
    }
   ],
   "source": [
    "train_features = [get_centroid(img)  for img in x_train  ]\n",
    "train_features = np.array(train_features)\n",
    "train_features=train_features.reshape(train_features.shape[0], 98, 1)\n",
    "print('shape of train feature vector:',train_features.shape)\n",
    "\n",
    "\n",
    "test_features = [get_centroid(img)  for img in x_test  ]\n",
    "test_features = np.array(test_features)\n",
    "test_features=test_features.reshape(test_features.shape[0], 98, 1)\n",
    "\n",
    "print('shape of test feature vector:',test_features.shape)"
   ]
  },
  {
   "cell_type": "markdown",
   "id": "65efb063",
   "metadata": {},
   "source": [
    "# - Neural network implementation "
   ]
  },
  {
   "cell_type": "code",
   "execution_count": 10,
   "id": "daf4c086",
   "metadata": {},
   "outputs": [],
   "source": [
    "class Layer:\n",
    "    def __init__(self):\n",
    "        self.input = None\n",
    "        self.output = None\n",
    "\n",
    "    def forward_propagation(self, input):\n",
    "        raise NotImplementedError\n",
    "\n",
    "    def backward_propagation(self, output_error, learning_rate):\n",
    "        raise "
   ]
  },
  {
   "cell_type": "code",
   "execution_count": 11,
   "id": "b294bc80",
   "metadata": {},
   "outputs": [],
   "source": [
    "class Layer2(Layer):\n",
    "    def __init__(self, input_size, output_size ):\n",
    "        self.input = None\n",
    "        self.output = []\n",
    "        self.weights = []\n",
    "        \n",
    "        self.weights = np.random.rand(input_size, output_size) -0.5\n",
    "       \n",
    "      \n",
    "    def getWeights(self):\n",
    "        \"\"\"\n",
    "        Inputs: \n",
    "            self: instance of class Layer2\n",
    "        \n",
    "        Outputs:\n",
    "            return the weights \n",
    "        \"\"\"\n",
    "        return self.weights\n",
    "    \n",
    "    def forward_propagation(self, given_input):\n",
    "        \"\"\"\n",
    "        Inputs:\n",
    "            self: instance of class Layer2\n",
    "        \n",
    "        Outputs: \n",
    "            return the output of the network in forward propagation \n",
    "        \"\"\"\n",
    "        self.input = given_input\n",
    "       \n",
    "        self.output = []\n",
    "        self.weights=np.array(self.weights)\n",
    "\n",
    "        self.weights=self.weights.transpose()\n",
    "\n",
    "        self.output = np.dot(self.weights, self.input)\n",
    "                \n",
    "        self.weights=self.weights.transpose()\n",
    "\n",
    "        return self.output\n",
    "    \n",
    "    \n",
    "    \n",
    "    def backward_propagation(self, output_error, learning_rate):\n",
    "        \"\"\"\n",
    "        Inputs:\n",
    "            self: instance of class Layer2\n",
    "            output_error: error in each layer \n",
    "            learning rate: step size of each iteration \n",
    "        \n",
    "        Outputs: \n",
    "           input error: the multiplication of weights and error in the layer  \n",
    "        \"\"\"\n",
    "        input_error = np.dot( self.weights,output_error)\n",
    "        output_error=output_error.transpose()\n",
    "        weights_error = np.dot(self.input,output_error)\n",
    "       \n",
    "        self.weights += learning_rate * weights_error\n",
    "        \n",
    "        return input_error"
   ]
  },
  {
   "cell_type": "code",
   "execution_count": 12,
   "id": "113793a5",
   "metadata": {},
   "outputs": [],
   "source": [
    "\n",
    "class Network:\n",
    "    def __init__(self):\n",
    "        self.layers = []\n",
    "\n",
    "    def add(self, layer ):\n",
    "        \"\"\"\n",
    "        Inputs:\n",
    "            self: instance of class Network\n",
    "            Layer: instance of class Layer\n",
    "        \"\"\"\n",
    "        self.layers.append(layer )\n",
    "    \n",
    "\n",
    "        \n",
    "    def predict(self, input_data):\n",
    "        \"\"\"\n",
    "        Inputs:\n",
    "            self: instance of class Network\n",
    "            input_data: the data we need the system to predict (test data)\n",
    "        Outputs:\n",
    "            return predicted labels for the data\n",
    "        \"\"\"\n",
    "        predicted = []\n",
    "        for i in range( len(input_data) ):\n",
    "            output = input_data[i]\n",
    "         \n",
    "            for layer in self.layers:\n",
    "                output = layer.forward_propagation(output)\n",
    "                \n",
    "            predicted.append(output)\n",
    "\n",
    "        return predicted\n",
    "\n",
    "    def fit(self, x_train, y_train, epochs, learning_rate):\n",
    "        \"\"\"\n",
    "        Inputs:\n",
    "            self: instance of class Network\n",
    "            x_train: images of training data\n",
    "            y_train: labels of images in training data\n",
    "            epochs: number of iterations\n",
    "            learning_rate: step size of each iteration \n",
    "        \"\"\"\n",
    "        samples = len(x_train)\n",
    "\n",
    "        # training loop\n",
    "        for i in range(epochs):\n",
    "            err = 0\n",
    "            for j in range(samples):\n",
    "                error = 0\n",
    "                # forward propagation\n",
    "                output = x_train[j]\n",
    "                for layer in self.layers:\n",
    "                    output = layer.forward_propagation(output)\n",
    "\n",
    "                total=[]\n",
    "               \n",
    "                t1=0\n",
    "                for k in range( len(output)): # not -1\n",
    "                    t1+=y_train[j][k]-output[k]\n",
    "                    total.append((y_train[j][k]-output[k]).tolist())\n",
    "          \n",
    "                err += t1\n",
    "                error = np.array(total)\n",
    "                # backward propagation\n",
    "                for layer,t in zip(reversed(self.layers),range(len(self.layers))):\n",
    "                    # print(\"Layer t \",t)\n",
    "                    error = layer.backward_propagation(error, learning_rate)\n",
    "\n",
    "            \n",
    "            # calculate average error on all samples\n",
    "\n",
    "            print('epoch %d/%d   err=%f' % (i+1, epochs, err))\n"
   ]
  },
  {
   "cell_type": "code",
   "execution_count": 13,
   "id": "12735cac",
   "metadata": {},
   "outputs": [],
   "source": [
    "class ActivationLayer(Layer):\n",
    "    def __init__(self, activation,activation_prime):\n",
    "        self.activation = activation\n",
    "        self.activation_prime = activation_prime\n",
    "\n",
    "    def forward_propagation(self, input_data):\n",
    "         \"\"\"\n",
    "        Inputs:\n",
    "            self: instance of class ActivationLayer\n",
    "        \n",
    "        Outputs: \n",
    "            return the output of the network in forward propagation \n",
    "        \"\"\"\n",
    "        self.input = input_data\n",
    "        self.output = self.activation(self.input)\n",
    "        return self.output\n",
    "\n",
    "\n",
    "    def backward_propagation(self, output_error, learning_rate):\n",
    "       \"\"\"\n",
    "        Inputs:\n",
    "            self: instance of class ActivationLayer\n",
    "            output_error: error in each layer \n",
    "            learning rate: step size of each iteration \n",
    "        \n",
    "        Outputs: \n",
    "           input error: the multiplication of weights and error in the activation layer  \n",
    "        \"\"\"\n",
    "        return self.activation_prime(self.input,self.output)* output_error #deltaj"
   ]
  },
  {
   "cell_type": "code",
   "execution_count": 14,
   "id": "961388b1",
   "metadata": {},
   "outputs": [
    {
     "name": "stdout",
     "output_type": "stream",
     "text": [
      "epoch 1/100   err=-1755.803013\n",
      "epoch 2/100   err=-119.152915\n",
      "epoch 3/100   err=-201.326527\n",
      "epoch 4/100   err=-336.301819\n",
      "epoch 5/100   err=-502.284171\n",
      "epoch 6/100   err=-641.893148\n",
      "epoch 7/100   err=-723.131243\n",
      "epoch 8/100   err=-790.946436\n",
      "epoch 9/100   err=-887.633723\n",
      "epoch 10/100   err=-1008.283112\n",
      "epoch 11/100   err=-1114.467076\n",
      "epoch 12/100   err=-1181.823108\n",
      "epoch 13/100   err=-1216.114071\n",
      "epoch 14/100   err=-1233.592442\n",
      "epoch 15/100   err=-1244.502486\n",
      "epoch 16/100   err=-1251.519114\n",
      "epoch 17/100   err=-1253.898555\n",
      "epoch 18/100   err=-1250.138060\n",
      "epoch 19/100   err=-1239.408889\n",
      "epoch 20/100   err=-1222.398139\n",
      "epoch 21/100   err=-1200.900102\n",
      "epoch 22/100   err=-1176.440061\n",
      "epoch 23/100   err=-1149.325485\n",
      "epoch 24/100   err=-1119.002712\n",
      "epoch 25/100   err=-1085.095945\n",
      "epoch 26/100   err=-1048.011925\n",
      "epoch 27/100   err=-1008.861787\n",
      "epoch 28/100   err=-969.051783\n",
      "epoch 29/100   err=-929.865729\n",
      "epoch 30/100   err=-892.216762\n",
      "epoch 31/100   err=-856.601808\n",
      "epoch 32/100   err=-823.183921\n",
      "epoch 33/100   err=-791.910970\n",
      "epoch 34/100   err=-762.619545\n",
      "epoch 35/100   err=-735.109951\n",
      "epoch 36/100   err=-709.192905\n",
      "epoch 37/100   err=-684.711019\n",
      "epoch 38/100   err=-661.540148\n",
      "epoch 39/100   err=-639.579333\n",
      "epoch 40/100   err=-618.739225\n",
      "epoch 41/100   err=-598.935615\n",
      "epoch 42/100   err=-580.089358\n",
      "epoch 43/100   err=-562.129685\n",
      "epoch 44/100   err=-544.996948\n",
      "epoch 45/100   err=-528.642775\n",
      "epoch 46/100   err=-513.028042\n",
      "epoch 47/100   err=-498.120171\n",
      "epoch 48/100   err=-483.890928\n",
      "epoch 49/100   err=-470.315071\n",
      "epoch 50/100   err=-457.369595\n",
      "epoch 51/100   err=-445.033121\n",
      "epoch 52/100   err=-433.285107\n",
      "epoch 53/100   err=-422.104903\n",
      "epoch 54/100   err=-411.470914\n",
      "epoch 55/100   err=-401.360227\n",
      "epoch 56/100   err=-391.748906\n",
      "epoch 57/100   err=-382.612794\n",
      "epoch 58/100   err=-373.928464\n",
      "epoch 59/100   err=-365.673903\n",
      "epoch 60/100   err=-357.828767\n",
      "epoch 61/100   err=-350.374242\n",
      "epoch 62/100   err=-343.292663\n",
      "epoch 63/100   err=-336.566943\n",
      "epoch 64/100   err=-330.179900\n",
      "epoch 65/100   err=-324.113574\n",
      "epoch 66/100   err=-318.348859\n",
      "epoch 67/100   err=-312.865688\n",
      "epoch 68/100   err=-307.643756\n",
      "epoch 69/100   err=-302.663436\n",
      "epoch 70/100   err=-297.906453\n",
      "epoch 71/100   err=-293.356119\n",
      "epoch 72/100   err=-288.997219\n",
      "epoch 73/100   err=-284.815761\n",
      "epoch 74/100   err=-280.798737\n",
      "epoch 75/100   err=-276.933954\n",
      "epoch 76/100   err=-273.209936\n",
      "epoch 77/100   err=-269.615860\n",
      "epoch 78/100   err=-266.141520\n",
      "epoch 79/100   err=-262.777312\n",
      "epoch 80/100   err=-259.514236\n",
      "epoch 81/100   err=-256.343939\n",
      "epoch 82/100   err=-253.258772\n",
      "epoch 83/100   err=-250.251867\n",
      "epoch 84/100   err=-247.317203\n",
      "epoch 85/100   err=-244.449645\n",
      "epoch 86/100   err=-241.644931\n",
      "epoch 87/100   err=-238.899609\n",
      "epoch 88/100   err=-236.210918\n",
      "epoch 89/100   err=-233.576642\n",
      "epoch 90/100   err=-230.994975\n",
      "epoch 91/100   err=-228.464410\n",
      "epoch 92/100   err=-225.983700\n",
      "epoch 93/100   err=-223.551868\n",
      "epoch 94/100   err=-221.168251\n",
      "epoch 95/100   err=-218.832511\n",
      "epoch 96/100   err=-216.544559\n",
      "epoch 97/100   err=-214.304362\n",
      "epoch 98/100   err=-212.111679\n",
      "epoch 99/100   err=-209.965794\n",
      "epoch 100/100   err=-207.865361\n"
     ]
    }
   ],
   "source": [
    "def sigmoid(x):\n",
    "    return 1 / (1 + np.exp(-x))\n",
    "\n",
    "\n",
    "def derivative(x):\n",
    "     return sigmoid(x) * (1 - sigmoid(x))\n",
    "\n",
    "\n",
    "NN = Network()\n",
    "\n",
    "NN.add(Layer2(98, 30 ))\n",
    "NN.add(ActivationLayer(sigmoid,derivative))\n",
    "NN.add(Layer2(30, 15 ))\n",
    "NN.add(ActivationLayer(sigmoid,derivative))\n",
    "NN.add(Layer2(15, 10))\n",
    "NN.add(ActivationLayer(sigmoid,derivative))\n",
    "#NN.add(ActivationLayer(softmax,derivativeS))\n",
    "\n",
    "\n",
    "NN.fit(train_features, y_train, epochs=100 ,learning_rate=0.01)\n",
    "\n",
    "# test\n",
    "out = NN.predict(test_features)"
   ]
  },
  {
   "cell_type": "code",
   "execution_count": 15,
   "id": "f9c38cb2",
   "metadata": {},
   "outputs": [],
   "source": [
    "out = NN.predict(test_features)"
   ]
  },
  {
   "cell_type": "code",
   "execution_count": 16,
   "id": "0121990f",
   "metadata": {},
   "outputs": [],
   "source": [
    "def get_max(arr):\n",
    "    list=[]\n",
    "    max=0\n",
    "    index=0\n",
    "    for i in range(len(arr)):\n",
    "        max=0\n",
    "        index=0\n",
    "        for j in range(len(arr[i])):\n",
    "            if(max<arr[i][j]):\n",
    "                max=arr[i][j]\n",
    "                index=j\n",
    "        list.append(index)\n",
    "    return list\n",
    "     "
   ]
  },
  {
   "cell_type": "code",
   "execution_count": 17,
   "id": "638f0558",
   "metadata": {},
   "outputs": [
    {
     "name": "stdout",
     "output_type": "stream",
     "text": [
      "84.6\n",
      "846\n"
     ]
    }
   ],
   "source": [
    "correct=0\n",
    "a=get_max(out)\n",
    "b=get_max(y_test)\n",
    "for i in range(len(test_features)):\n",
    "    \n",
    "    if(a[i]==b[i]):\n",
    "        correct+=1\n",
    "        \n",
    "accuracy=(correct/len(test_features))*100\n",
    "print(accuracy)\n",
    "print(correct)"
   ]
  },
  {
   "cell_type": "code",
   "execution_count": null,
   "id": "8ae741c4",
   "metadata": {},
   "outputs": [],
   "source": []
  },
  {
   "cell_type": "code",
   "execution_count": null,
   "id": "0f7a1a45",
   "metadata": {},
   "outputs": [],
   "source": []
  }
 ],
 "metadata": {
  "kernelspec": {
   "display_name": "Python 3 (ipykernel)",
   "language": "python",
   "name": "python3"
  },
  "language_info": {
   "codemirror_mode": {
    "name": "ipython",
    "version": 3
   },
   "file_extension": ".py",
   "mimetype": "text/x-python",
   "name": "python",
   "nbconvert_exporter": "python",
   "pygments_lexer": "ipython3",
   "version": "3.9.7"
  }
 },
 "nbformat": 4,
 "nbformat_minor": 5
}
